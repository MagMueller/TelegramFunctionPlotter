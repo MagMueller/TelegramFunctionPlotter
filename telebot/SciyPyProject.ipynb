{
 "cells": [
  {
   "cell_type": "markdown",
   "id": "483f0de2-9696-4090-af48-64919b23a749",
   "metadata": {},
   "source": [
    "# Scipy 2021 Project - Sympy - Telegram - Bot - Magnus Müller and Felix Hammer\n",
    "\n",
    "First of all the required libraries:"
   ]
  },
  {
   "cell_type": "code",
   "execution_count": 445,
   "id": "059fc1d5-ced0-4f3f-8b77-06cf47e9d1e8",
   "metadata": {},
   "outputs": [
    {
     "name": "stdout",
     "output_type": "stream",
     "text": [
      "Requirement already satisfied: pyTelegramBotAPI in /home/felixh/miniconda3/envs/scipy/lib/python3.7/site-packages (3.8.2)\n",
      "Requirement already satisfied: requests in /home/felixh/miniconda3/envs/scipy/lib/python3.7/site-packages (from pyTelegramBotAPI) (2.25.1)\n",
      "Requirement already satisfied: certifi>=2017.4.17 in /home/felixh/miniconda3/envs/scipy/lib/python3.7/site-packages (from requests->pyTelegramBotAPI) (2021.5.30)\n",
      "Requirement already satisfied: urllib3<1.27,>=1.21.1 in /home/felixh/miniconda3/envs/scipy/lib/python3.7/site-packages (from requests->pyTelegramBotAPI) (1.26.4)\n",
      "Requirement already satisfied: idna<3,>=2.5 in /home/felixh/miniconda3/envs/scipy/lib/python3.7/site-packages (from requests->pyTelegramBotAPI) (2.10)\n",
      "Requirement already satisfied: chardet<5,>=3.0.2 in /home/felixh/miniconda3/envs/scipy/lib/python3.7/site-packages (from requests->pyTelegramBotAPI) (4.0.0)\n",
      "Note: you may need to restart the kernel to use updated packages.\n"
     ]
    }
   ],
   "source": [
    "!pip install pyTelegramBotAPI\n",
    "!pip install sympy\n",
    "!pip install numpy\n",
    "!pip install matplotlib"
   ]
  },
  {
   "cell_type": "markdown",
   "id": "fa62be67-9a3e-40f5-90f7-597b267a4da5",
   "metadata": {},
   "source": [
    "## First let's get a grib on pyTelegramBotAPI\n",
    "\n",
    "Here is the documentation: https://pypi.org/project/pyTelegramBotAPI/\n",
    "But you don't really need it, because it is very simple:"
   ]
  },
  {
   "cell_type": "code",
   "execution_count": 448,
   "id": "7538ee4b-951f-4a4e-8902-e3ed7d12a117",
   "metadata": {},
   "outputs": [],
   "source": [
    "import telebot # You first have to import the library (it goes by another name)\n",
    "\n",
    "# Then you have to specify the API Key of your bot here as string: \n",
    "API_KEY = \"1913464534:AAGjZ9gC5KQmRiAjd-YWCAjhkKYGIpU6SBM\"\n",
    "bot = telebot.TeleBot(API_KEY) # and create a telebot with the api\n",
    "\n",
    "# After that we just have to specify message handlers, which check wether a reply function is fitting:\n",
    "@bot.message_handler(commands=['hello']) # commands accepts telegram comands (in this case \"/hello\")\n",
    "def hello(message): # and then you just have to state the awnser function directly under the handler\n",
    "    bot.send_message(message.chat.id, \"Hello!\") # in this case we simply send back an \"Hello\" to the person chatting with us\n",
    "    \n",
    "    \n",
    "# You can also you as a handler boolean functions like this: \n",
    "\n",
    "def a_boolean_function(message):\n",
    "    return message.text=='How are you?'\n",
    "\n",
    "@bot.message_handler(func=a_boolean_function)\n",
    "def reply(message): # and then you just have to state the awnser function directly under the handler\n",
    "    bot.send_message(message.chat.id, \"I am a bot, I don't have feelings\")\n",
    "    \n",
    "# To start the bot you will then only need this command\n",
    "\n",
    "bot.polling()  # use none_stop=True as argument to ikeep running after an error occured\n"
   ]
  },
  {
   "cell_type": "markdown",
   "id": "4d04035f-f7cd-4f99-9791-0e46fba5281e",
   "metadata": {},
   "source": [
    "This was basically everything we used, besides a simple send_photo command\n",
    "\n",
    "It this important to note that the handlers are checked in the order they are defined by\n",
    "\n",
    "## Then let's have a look at SymPy\n",
    "\n",
    "Sympy is we also only use a few functions from sympy \n",
    "But first let's import it:"
   ]
  },
  {
   "cell_type": "code",
   "execution_count": 451,
   "id": "bf76d982-3977-4967-acd0-f6d0c65fb2dc",
   "metadata": {},
   "outputs": [
    {
     "name": "stdout",
     "output_type": "stream",
     "text": [
      "exp(x**2)\n",
      "2*x*exp(x**2)\n",
      "sqrt(pi)*erfi(x)/2\n"
     ]
    }
   ],
   "source": [
    "from sympy import *\n",
    "\n",
    "x, y, z = symbols('x y z') # here we specify the variables, we are using\n",
    "\n",
    "# Simpy offers nice mathematical tool like these:\n",
    "\n",
    "function = parse_expr('exp(x**2)') # Define a function with an string\n",
    "print(function)\n",
    "print(function.diff()) # Derivate the Function\n",
    "print(integrate(function)) # Integrate it "
   ]
  },
  {
   "cell_type": "markdown",
   "id": "3f4b5abd-bead-49d8-aede-3e9fb0c8ffc3",
   "metadata": {},
   "source": [
    "# Project’s goal, motivation and structure\n",
    "\n",
    "The goal of this project it to have a create a Telegram "
   ]
  },
  {
   "cell_type": "markdown",
   "id": "7df37339-02a0-4d8e-8883-1dddf0b2a4d3",
   "metadata": {},
   "source": [
    "<img src=\"img/screen.jpg\">"
   ]
  }
 ],
 "metadata": {
  "kernelspec": {
   "display_name": "Python 3",
   "language": "python",
   "name": "python3"
  },
  "language_info": {
   "codemirror_mode": {
    "name": "ipython",
    "version": 3
   },
   "file_extension": ".py",
   "mimetype": "text/x-python",
   "name": "python",
   "nbconvert_exporter": "python",
   "pygments_lexer": "ipython3",
   "version": "3.7.10"
  }
 },
 "nbformat": 4,
 "nbformat_minor": 5
}
