{
 "cells": [
  {
   "cell_type": "markdown",
   "metadata": {},
   "source": [
    "# Scipy 2021 Project - Sympy - Telegram - Bot - Magnus Müller and Felix Hammer\n",
    "\n",
    "First of all, the required libraries:"
   ]
  },
  {
   "cell_type": "code",
   "execution_count": 1,
   "metadata": {
    "collapsed": true
   },
   "outputs": [
    {
     "name": "stdout",
     "output_type": "stream",
     "text": [
      "\u001b[33mWARNING: Ignoring invalid distribution -telegrambotapi (/Library/Frameworks/Python.framework/Versions/3.9/lib/python3.9/site-packages)\u001b[0m\n",
      "\u001b[33mWARNING: Ignoring invalid distribution -ytelegrambotapi (/Library/Frameworks/Python.framework/Versions/3.9/lib/python3.9/site-packages)\u001b[0m\n",
      "\u001b[33mWARNING: Ignoring invalid distribution - (/Library/Frameworks/Python.framework/Versions/3.9/lib/python3.9/site-packages)\u001b[0m\n",
      "\u001b[33mWARNING: Ignoring invalid distribution -telegrambotapi (/Library/Frameworks/Python.framework/Versions/3.9/lib/python3.9/site-packages)\u001b[0m\n",
      "\u001b[33mWARNING: Ignoring invalid distribution -ytelegrambotapi (/Library/Frameworks/Python.framework/Versions/3.9/lib/python3.9/site-packages)\u001b[0m\n",
      "\u001b[33mWARNING: Ignoring invalid distribution - (/Library/Frameworks/Python.framework/Versions/3.9/lib/python3.9/site-packages)\u001b[0m\n",
      "Requirement already satisfied: pyTelegramBotAPI in /Library/Frameworks/Python.framework/Versions/3.9/lib/python3.9/site-packages (3.8.2)\n",
      "Requirement already satisfied: requests in /Library/Frameworks/Python.framework/Versions/3.9/lib/python3.9/site-packages (from pyTelegramBotAPI) (2.24.0)\n",
      "Requirement already satisfied: certifi>=2017.4.17 in /Library/Frameworks/Python.framework/Versions/3.9/lib/python3.9/site-packages (from requests->pyTelegramBotAPI) (2021.5.30)\n",
      "Requirement already satisfied: urllib3!=1.25.0,!=1.25.1,<1.26,>=1.21.1 in /Library/Frameworks/Python.framework/Versions/3.9/lib/python3.9/site-packages (from requests->pyTelegramBotAPI) (1.25.11)\n",
      "Requirement already satisfied: chardet<4,>=3.0.2 in /Library/Frameworks/Python.framework/Versions/3.9/lib/python3.9/site-packages (from requests->pyTelegramBotAPI) (3.0.4)\n",
      "Requirement already satisfied: idna<3,>=2.5 in /Library/Frameworks/Python.framework/Versions/3.9/lib/python3.9/site-packages (from requests->pyTelegramBotAPI) (2.10)\n",
      "\u001b[33mWARNING: Ignoring invalid distribution -telegrambotapi (/Library/Frameworks/Python.framework/Versions/3.9/lib/python3.9/site-packages)\u001b[0m\n",
      "\u001b[33mWARNING: Ignoring invalid distribution -ytelegrambotapi (/Library/Frameworks/Python.framework/Versions/3.9/lib/python3.9/site-packages)\u001b[0m\n",
      "\u001b[33mWARNING: Ignoring invalid distribution - (/Library/Frameworks/Python.framework/Versions/3.9/lib/python3.9/site-packages)\u001b[0m\n",
      "\u001b[33mWARNING: Ignoring invalid distribution -telegrambotapi (/Library/Frameworks/Python.framework/Versions/3.9/lib/python3.9/site-packages)\u001b[0m\n",
      "\u001b[33mWARNING: Ignoring invalid distribution -ytelegrambotapi (/Library/Frameworks/Python.framework/Versions/3.9/lib/python3.9/site-packages)\u001b[0m\n",
      "\u001b[33mWARNING: Ignoring invalid distribution - (/Library/Frameworks/Python.framework/Versions/3.9/lib/python3.9/site-packages)\u001b[0m\n",
      "\u001b[33mWARNING: Ignoring invalid distribution -telegrambotapi (/Library/Frameworks/Python.framework/Versions/3.9/lib/python3.9/site-packages)\u001b[0m\n",
      "\u001b[33mWARNING: Ignoring invalid distribution -ytelegrambotapi (/Library/Frameworks/Python.framework/Versions/3.9/lib/python3.9/site-packages)\u001b[0m\n",
      "\u001b[33mWARNING: Ignoring invalid distribution - (/Library/Frameworks/Python.framework/Versions/3.9/lib/python3.9/site-packages)\u001b[0m\n",
      "\u001b[33mWARNING: Ignoring invalid distribution -telegrambotapi (/Library/Frameworks/Python.framework/Versions/3.9/lib/python3.9/site-packages)\u001b[0m\n",
      "\u001b[33mWARNING: Ignoring invalid distribution -ytelegrambotapi (/Library/Frameworks/Python.framework/Versions/3.9/lib/python3.9/site-packages)\u001b[0m\n",
      "\u001b[33mWARNING: Ignoring invalid distribution - (/Library/Frameworks/Python.framework/Versions/3.9/lib/python3.9/site-packages)\u001b[0m\n",
      "\u001b[33mWARNING: Ignoring invalid distribution -telegrambotapi (/Library/Frameworks/Python.framework/Versions/3.9/lib/python3.9/site-packages)\u001b[0m\n",
      "\u001b[33mWARNING: Ignoring invalid distribution -ytelegrambotapi (/Library/Frameworks/Python.framework/Versions/3.9/lib/python3.9/site-packages)\u001b[0m\n",
      "\u001b[33mWARNING: Ignoring invalid distribution - (/Library/Frameworks/Python.framework/Versions/3.9/lib/python3.9/site-packages)\u001b[0m\n",
      "Requirement already satisfied: sympy in /Library/Frameworks/Python.framework/Versions/3.9/lib/python3.9/site-packages (1.8)\n",
      "Requirement already satisfied: mpmath>=0.19 in /Library/Frameworks/Python.framework/Versions/3.9/lib/python3.9/site-packages (from sympy) (1.2.1)\n",
      "\u001b[33mWARNING: Ignoring invalid distribution -telegrambotapi (/Library/Frameworks/Python.framework/Versions/3.9/lib/python3.9/site-packages)\u001b[0m\n",
      "\u001b[33mWARNING: Ignoring invalid distribution -ytelegrambotapi (/Library/Frameworks/Python.framework/Versions/3.9/lib/python3.9/site-packages)\u001b[0m\n",
      "\u001b[33mWARNING: Ignoring invalid distribution - (/Library/Frameworks/Python.framework/Versions/3.9/lib/python3.9/site-packages)\u001b[0m\n",
      "\u001b[33mWARNING: Ignoring invalid distribution -telegrambotapi (/Library/Frameworks/Python.framework/Versions/3.9/lib/python3.9/site-packages)\u001b[0m\n",
      "\u001b[33mWARNING: Ignoring invalid distribution -ytelegrambotapi (/Library/Frameworks/Python.framework/Versions/3.9/lib/python3.9/site-packages)\u001b[0m\n",
      "\u001b[33mWARNING: Ignoring invalid distribution - (/Library/Frameworks/Python.framework/Versions/3.9/lib/python3.9/site-packages)\u001b[0m\n",
      "\u001b[33mWARNING: Ignoring invalid distribution -telegrambotapi (/Library/Frameworks/Python.framework/Versions/3.9/lib/python3.9/site-packages)\u001b[0m\n",
      "\u001b[33mWARNING: Ignoring invalid distribution -ytelegrambotapi (/Library/Frameworks/Python.framework/Versions/3.9/lib/python3.9/site-packages)\u001b[0m\n",
      "\u001b[33mWARNING: Ignoring invalid distribution - (/Library/Frameworks/Python.framework/Versions/3.9/lib/python3.9/site-packages)\u001b[0m\n",
      "\u001b[33mWARNING: Ignoring invalid distribution -telegrambotapi (/Library/Frameworks/Python.framework/Versions/3.9/lib/python3.9/site-packages)\u001b[0m\n",
      "\u001b[33mWARNING: Ignoring invalid distribution -ytelegrambotapi (/Library/Frameworks/Python.framework/Versions/3.9/lib/python3.9/site-packages)\u001b[0m\n",
      "\u001b[33mWARNING: Ignoring invalid distribution - (/Library/Frameworks/Python.framework/Versions/3.9/lib/python3.9/site-packages)\u001b[0m\n",
      "\u001b[33mWARNING: Ignoring invalid distribution -telegrambotapi (/Library/Frameworks/Python.framework/Versions/3.9/lib/python3.9/site-packages)\u001b[0m\n",
      "\u001b[33mWARNING: Ignoring invalid distribution -ytelegrambotapi (/Library/Frameworks/Python.framework/Versions/3.9/lib/python3.9/site-packages)\u001b[0m\n",
      "\u001b[33mWARNING: Ignoring invalid distribution - (/Library/Frameworks/Python.framework/Versions/3.9/lib/python3.9/site-packages)\u001b[0m\n",
      "Requirement already satisfied: numpy in /Library/Frameworks/Python.framework/Versions/3.9/lib/python3.9/site-packages (1.19.5)\n",
      "\u001b[33mWARNING: Ignoring invalid distribution -telegrambotapi (/Library/Frameworks/Python.framework/Versions/3.9/lib/python3.9/site-packages)\u001b[0m\n",
      "\u001b[33mWARNING: Ignoring invalid distribution -ytelegrambotapi (/Library/Frameworks/Python.framework/Versions/3.9/lib/python3.9/site-packages)\u001b[0m\n",
      "\u001b[33mWARNING: Ignoring invalid distribution - (/Library/Frameworks/Python.framework/Versions/3.9/lib/python3.9/site-packages)\u001b[0m\n",
      "\u001b[33mWARNING: Ignoring invalid distribution -telegrambotapi (/Library/Frameworks/Python.framework/Versions/3.9/lib/python3.9/site-packages)\u001b[0m\n",
      "\u001b[33mWARNING: Ignoring invalid distribution -ytelegrambotapi (/Library/Frameworks/Python.framework/Versions/3.9/lib/python3.9/site-packages)\u001b[0m\n",
      "\u001b[33mWARNING: Ignoring invalid distribution - (/Library/Frameworks/Python.framework/Versions/3.9/lib/python3.9/site-packages)\u001b[0m\n",
      "\u001b[33mWARNING: Ignoring invalid distribution -telegrambotapi (/Library/Frameworks/Python.framework/Versions/3.9/lib/python3.9/site-packages)\u001b[0m\n",
      "\u001b[33mWARNING: Ignoring invalid distribution -ytelegrambotapi (/Library/Frameworks/Python.framework/Versions/3.9/lib/python3.9/site-packages)\u001b[0m\n",
      "\u001b[33mWARNING: Ignoring invalid distribution - (/Library/Frameworks/Python.framework/Versions/3.9/lib/python3.9/site-packages)\u001b[0m\n",
      "\u001b[33mWARNING: Ignoring invalid distribution -telegrambotapi (/Library/Frameworks/Python.framework/Versions/3.9/lib/python3.9/site-packages)\u001b[0m\n",
      "\u001b[33mWARNING: Ignoring invalid distribution -ytelegrambotapi (/Library/Frameworks/Python.framework/Versions/3.9/lib/python3.9/site-packages)\u001b[0m\n",
      "\u001b[33mWARNING: Ignoring invalid distribution - (/Library/Frameworks/Python.framework/Versions/3.9/lib/python3.9/site-packages)\u001b[0m\n",
      "\u001b[33mWARNING: Ignoring invalid distribution -telegrambotapi (/Library/Frameworks/Python.framework/Versions/3.9/lib/python3.9/site-packages)\u001b[0m\n",
      "\u001b[33mWARNING: Ignoring invalid distribution -ytelegrambotapi (/Library/Frameworks/Python.framework/Versions/3.9/lib/python3.9/site-packages)\u001b[0m\n",
      "\u001b[33mWARNING: Ignoring invalid distribution - (/Library/Frameworks/Python.framework/Versions/3.9/lib/python3.9/site-packages)\u001b[0m\n",
      "Requirement already satisfied: matplotlib in /Library/Frameworks/Python.framework/Versions/3.9/lib/python3.9/site-packages (3.4.2)\n",
      "Requirement already satisfied: python-dateutil>=2.7 in /Library/Frameworks/Python.framework/Versions/3.9/lib/python3.9/site-packages (from matplotlib) (2.8.2)\n",
      "Requirement already satisfied: cycler>=0.10 in /Library/Frameworks/Python.framework/Versions/3.9/lib/python3.9/site-packages (from matplotlib) (0.10.0)\n",
      "Requirement already satisfied: numpy>=1.16 in /Library/Frameworks/Python.framework/Versions/3.9/lib/python3.9/site-packages (from matplotlib) (1.19.5)\n",
      "Requirement already satisfied: pillow>=6.2.0 in /Library/Frameworks/Python.framework/Versions/3.9/lib/python3.9/site-packages (from matplotlib) (8.3.1)\n",
      "Requirement already satisfied: kiwisolver>=1.0.1 in /Library/Frameworks/Python.framework/Versions/3.9/lib/python3.9/site-packages (from matplotlib) (1.3.1)\n",
      "Requirement already satisfied: pyparsing>=2.2.1 in /Library/Frameworks/Python.framework/Versions/3.9/lib/python3.9/site-packages (from matplotlib) (2.4.7)\n",
      "Requirement already satisfied: six in /Library/Frameworks/Python.framework/Versions/3.9/lib/python3.9/site-packages (from cycler>=0.10->matplotlib) (1.15.0)\n",
      "\u001b[33mWARNING: Ignoring invalid distribution -telegrambotapi (/Library/Frameworks/Python.framework/Versions/3.9/lib/python3.9/site-packages)\u001b[0m\n"
     ]
    },
    {
     "name": "stdout",
     "output_type": "stream",
     "text": [
      "\u001b[33mWARNING: Ignoring invalid distribution -ytelegrambotapi (/Library/Frameworks/Python.framework/Versions/3.9/lib/python3.9/site-packages)\u001b[0m\n",
      "\u001b[33mWARNING: Ignoring invalid distribution - (/Library/Frameworks/Python.framework/Versions/3.9/lib/python3.9/site-packages)\u001b[0m\n",
      "\u001b[33mWARNING: Ignoring invalid distribution -telegrambotapi (/Library/Frameworks/Python.framework/Versions/3.9/lib/python3.9/site-packages)\u001b[0m\n",
      "\u001b[33mWARNING: Ignoring invalid distribution -ytelegrambotapi (/Library/Frameworks/Python.framework/Versions/3.9/lib/python3.9/site-packages)\u001b[0m\n",
      "\u001b[33mWARNING: Ignoring invalid distribution - (/Library/Frameworks/Python.framework/Versions/3.9/lib/python3.9/site-packages)\u001b[0m\n",
      "\u001b[33mWARNING: Ignoring invalid distribution -telegrambotapi (/Library/Frameworks/Python.framework/Versions/3.9/lib/python3.9/site-packages)\u001b[0m\n",
      "\u001b[33mWARNING: Ignoring invalid distribution -ytelegrambotapi (/Library/Frameworks/Python.framework/Versions/3.9/lib/python3.9/site-packages)\u001b[0m\n",
      "\u001b[33mWARNING: Ignoring invalid distribution - (/Library/Frameworks/Python.framework/Versions/3.9/lib/python3.9/site-packages)\u001b[0m\n"
     ]
    }
   ],
   "source": [
    "!pip install pyTelegramBotAPI\n",
    "!pip install sympy\n",
    "!pip install numpy\n",
    "!pip install matplotlib"
   ]
  },
  {
   "cell_type": "markdown",
   "metadata": {},
   "source": [
    "You can also find them in our requiremts.txt"
   ]
  },
  {
   "cell_type": "markdown",
   "metadata": {},
   "source": [
    "## First let's get a grib on pyTelegramBotAPI\n",
    "\n",
    "Here is the documentation: https://pypi.org/project/pyTelegramBotAPI/\n",
    "But you don't really need it, because it is very simple:"
   ]
  },
  {
   "cell_type": "code",
   "execution_count": 2,
   "metadata": {},
   "outputs": [],
   "source": [
    "import telebot # You first have to import the library (it goes by another name)\n",
    "\n",
    "# Then you have to specify the API Key of your bot here as string: (You can create a bot with the telegram bot father and get an API Key)\n",
    "API_KEY = \"1913464534:AAGjZ9gC5KQmRiAjd-YWCAjhkKYGIpU6SBM\"\n",
    "bot = telebot.TeleBot(API_KEY) # and create a telebot with the api\n",
    "\n",
    "# After that we just have to specify message handlers, which check wether a reply function is fitting:\n",
    "@bot.message_handler(commands=['hello']) # commands accepts telegram comands (in this case \"/hello\")\n",
    "def hello(message): # and then you just have to state the awnser function directly under the handler\n",
    "    bot.send_message(message.chat.id, \"Hello!\") # in this case we simply send back an \"Hello\" to the person chatting with us\n",
    "    \n",
    "    \n",
    "# You can also you as a handler boolean functions like this: \n",
    "\n",
    "def a_boolean_function(message):\n",
    "    return message.text=='How are you?'\n",
    "\n",
    "@bot.message_handler(func=a_boolean_function)\n",
    "def reply(message): # and then you just have to state the awnser function directly under the handler\n",
    "    bot.send_message(message.chat.id, \"I am a bot, I don't have feelings\")\n",
    "    \n",
    "# To run the bot you will then only need this command\n",
    "\n",
    "bot.polling()  # use none_stop=True as argument to keep running after an error occured\n"
   ]
  },
  {
   "cell_type": "markdown",
   "metadata": {},
   "source": [
    "The script runs until you interrupt it.\n",
    "This was basically everything we used, besides a simple send_photo command\n",
    "\n",
    "It is important to note that the handlers are checked in the order in which they are specified by (top down)\n",
    "\n",
    "## Then let's have a look at SymPy\n",
    "\n",
    "SymPy is a great library for math \n",
    "\n",
    "First let's import it:"
   ]
  },
  {
   "cell_type": "code",
   "execution_count": 3,
   "metadata": {},
   "outputs": [
    {
     "name": "stdout",
     "output_type": "stream",
     "text": [
      "exp(x**2)\n",
      "2*x*exp(x**2)\n",
      "sqrt(pi)*erfi(x)/2\n"
     ]
    }
   ],
   "source": [
    "from sympy import *\n",
    "\n",
    "x, y, z = symbols('x y z') # here we specify the variables, we are using\n",
    "\n",
    "# Simpy offers nice mathematical tools like this:\n",
    "\n",
    "function = parse_expr('exp(x**2)') # Define a function with an string\n",
    "print(function)\n",
    "print(function.diff()) # Derivate the function\n",
    "print(integrate(function)) # Integrate it "
   ]
  },
  {
   "cell_type": "markdown",
   "metadata": {},
   "source": [
    "These 3 functions are essentially the only functions we use"
   ]
  },
  {
   "cell_type": "markdown",
   "metadata": {},
   "source": []
  },
  {
   "cell_type": "markdown",
   "metadata": {},
   "source": [
    "# Project’s goal, motivation and structure\n",
    "## Goal\n",
    "The goal of this project is to create a Telegram bot that acts as a simple \"math helper\".\n",
    "\n",
    "So if you are sitting in front of a math problem and want to quickly derive a function, you can simply open Telegram instead of googling for the classic \"derivation calculator\" pages \n",
    "\n",
    "## Motivation\n",
    "\n",
    "The motivation was basically that we like math and Python and creating this Telegram bot seemed like a great way to combine those two things. Also, a Telegram bot seemed pretty cool and we thought that knowing how to create one might be useful later on.\n",
    "\n",
    "\n",
    "## Examples\n",
    "\n",
    "<img src=\"img/plot.png\" width=600 height=400 />\n",
    "\n",
    "<img src=\"img/plot2dim.png\" width=600 height=400 />\n",
    "\n",
    "<img src=\"img/integrate.png\" width=600 height=400 />\n",
    "\n",
    "<img src=\"img/Integrate_borders.png\" width=600 height=400 />\n",
    "\n",
    "<img src=\"img/derivate.png\" width=600 height=400 />\n",
    "\n",
    "<img src=\"img/set.png\" width=600 height=400 />\n",
    "\n",
    "<img src=\"img/sinPlot.png\" width=600 height=400 />\n",
    "\n",
    "## Structure \n",
    "\n",
    "This is the structure of our bot:"
   ]
  },
  {
   "cell_type": "markdown",
   "metadata": {},
   "source": [
    "<img src=\"img/screen.jpg\">"
   ]
  },
  {
   "cell_type": "markdown",
   "metadata": {},
   "source": [
    "At first sight it looks quite complex, but it is not so hard to understand.\n",
    "\n",
    "So in the end we run the main.py file. The bot then starts polling and waits for incoming messages.\n",
    "When a message is received, the bot checks to see if the message is associated with a message handler in the handler order.\n",
    "\n",
    "The five major import handlers are those for plotting, deriving, integrating, storing a function, or computing operations over the stored function. They all call a boolean function from boolean_funtions.py, with the exception of bool_commands. \n",
    "\n",
    "The boolean function then calls a special parsing function from parsing_functions.py, respectively.\n",
    "\n",
    "\n",
    "### parse_function\n",
    "Since all functions are similar in structure, we will explain the structure using the derivation process from bottom to top:\n"
   ]
  },
  {
   "cell_type": "code",
   "execution_count": 4,
   "metadata": {},
   "outputs": [
    {
     "data": {
      "text/latex": [
       "$\\displaystyle 2 x$"
      ],
      "text/plain": [
       "2*x"
      ]
     },
     "execution_count": 4,
     "metadata": {},
     "output_type": "execute_result"
    }
   ],
   "source": [
    "from sympy import *\n",
    "from parsing_functions import parse_function\n",
    "x, y, z = symbols('x y z')\n",
    "\n",
    "# The most fundamental building plot is this parse_function:\n",
    "parse_function('x2')"
   ]
  },
  {
   "cell_type": "markdown",
   "metadata": {},
   "source": [
    "It allows us to convert a string of a mathematical function written in the correct way into a sympy expression. \n",
    "This handles things differently than sympy's parse_expr function:"
   ]
  },
  {
   "cell_type": "code",
   "execution_count": 5,
   "metadata": {},
   "outputs": [
    {
     "data": {
      "text/latex": [
       "$\\displaystyle x_{2}$"
      ],
      "text/plain": [
       "x2"
      ]
     },
     "execution_count": 5,
     "metadata": {},
     "output_type": "execute_result"
    }
   ],
   "source": [
    "parse_expr('x2')"
   ]
  },
  {
   "cell_type": "markdown",
   "metadata": {},
   "source": [
    "Here are a few more examples:"
   ]
  },
  {
   "cell_type": "code",
   "execution_count": 6,
   "metadata": {},
   "outputs": [
    {
     "data": {
      "text/latex": [
       "$\\displaystyle \\sin{\\left(e^{\\cos{\\left(x^{2} \\right)}} \\right)}$"
      ],
      "text/plain": [
       "sin(exp(cos(x**2)))"
      ]
     },
     "execution_count": 6,
     "metadata": {},
     "output_type": "execute_result"
    }
   ],
   "source": [
    "parse_function('sin(exp(cos(x**2)))')"
   ]
  },
  {
   "cell_type": "code",
   "execution_count": 7,
   "metadata": {},
   "outputs": [
    {
     "data": {
      "text/plain": [
       "'Function not corretly formated'"
      ]
     },
     "execution_count": 7,
     "metadata": {},
     "output_type": "execute_result"
    }
   ],
   "source": [
    "parse_function('notafuntion%') # returns a failure message if you can't parse the function"
   ]
  },
  {
   "cell_type": "code",
   "execution_count": 8,
   "metadata": {},
   "outputs": [
    {
     "data": {
      "text/latex": [
       "$\\displaystyle butthisisafunction$"
      ],
      "text/plain": [
       "butthisisafunction"
      ]
     },
     "execution_count": 8,
     "metadata": {},
     "output_type": "execute_result"
    }
   ],
   "source": [
    "parse_function('butthisisafunction')"
   ]
  },
  {
   "cell_type": "markdown",
   "metadata": {},
   "source": [
    "### parse_derivation\n",
    "This parse_function is now used by the parse_derivation function:\n"
   ]
  },
  {
   "cell_type": "code",
   "execution_count": 9,
   "metadata": {},
   "outputs": [],
   "source": [
    "def parse_derivation(string):\n",
    "    \"\"\"\n",
    "    Input: string\n",
    "    Output: sympy function or string if parsing failed or False if we the string does'nt start with 'derivate '\n",
    "    \"\"\"\n",
    "    if string[0:9]=='derivate ':\n",
    "        first = string.find(\"'\")\n",
    "        second = string.find(\"'\",first+1)\n",
    "        if first!= -1 and second !=-1: # if function correctly instantiated \n",
    "            pos_var=string.find('var')\n",
    "            if pos_var!=-1: # if variable is specified\n",
    "                if pos_var+4 < len(string) and string[pos_var+4] in ['x','y','z']: # if variable is corectly specified\n",
    "                    erg = parse_function(string[first+1:second])\n",
    "                    if type(erg)==str:\n",
    "                        return erg\n",
    "                    else:\n",
    "                        return [erg,string[pos_var+4]] # return functionm variabke as list\n",
    "                else:\n",
    "                    return \"No or wrong Variable given\" # return failure message\n",
    "            else:\n",
    "                erg = parse_function(string[first+1:second])\n",
    "                if type(erg)==str:\n",
    "                    return erg\n",
    "                else:\n",
    "                    return [erg] # return function as list\n",
    "        else:\n",
    "            return 'Function not correctly instantiated'# return failure message\n",
    "    return False\n"
   ]
  },
  {
   "cell_type": "markdown",
   "metadata": {},
   "source": [
    "The function is called with the text of the incoming message as argument.\n",
    "If the text does not start with 'derivate', the function simply returns false:"
   ]
  },
  {
   "cell_type": "code",
   "execution_count": 10,
   "metadata": {},
   "outputs": [
    {
     "data": {
      "text/plain": [
       "False"
      ]
     },
     "execution_count": 10,
     "metadata": {},
     "output_type": "execute_result"
    }
   ],
   "source": [
    "parse_derivation('deriva')"
   ]
  },
  {
   "cell_type": "markdown",
   "metadata": {},
   "source": [
    "When we get an input that is formatted correctly, we get the parsed function, possibly a variable in the form of a list:"
   ]
  },
  {
   "cell_type": "code",
   "execution_count": 11,
   "metadata": {},
   "outputs": [
    {
     "data": {
      "text/plain": [
       "[exp(sin(x**2))]"
      ]
     },
     "execution_count": 11,
     "metadata": {},
     "output_type": "execute_result"
    }
   ],
   "source": [
    "parse_derivation(\"derivate 'exp(sin(x**2))'\")"
   ]
  },
  {
   "cell_type": "code",
   "execution_count": 12,
   "metadata": {},
   "outputs": [
    {
     "data": {
      "text/plain": [
       "[exp(sin(x**2)), 'x']"
      ]
     },
     "execution_count": 12,
     "metadata": {},
     "output_type": "execute_result"
    }
   ],
   "source": [
    "parse_derivation(\"derivate 'exp(sin(x**2))' var x\")"
   ]
  },
  {
   "cell_type": "markdown",
   "metadata": {},
   "source": [
    "And if we detect an error, be it a wrong variable or a function that was not instated correctly, we get error messages back as strings:"
   ]
  },
  {
   "cell_type": "code",
   "execution_count": 13,
   "metadata": {},
   "outputs": [
    {
     "data": {
      "text/plain": [
       "'Function not correctly instantiated'"
      ]
     },
     "execution_count": 13,
     "metadata": {},
     "output_type": "execute_result"
    }
   ],
   "source": [
    "parse_derivation(\"derivate 'missing_abostroph\")"
   ]
  },
  {
   "cell_type": "code",
   "execution_count": 14,
   "metadata": {},
   "outputs": [
    {
     "data": {
      "text/plain": [
       "'Function not correctly instantiated'"
      ]
     },
     "execution_count": 14,
     "metadata": {},
     "output_type": "execute_result"
    }
   ],
   "source": [
    "parse_derivation(\"derivate \")"
   ]
  },
  {
   "cell_type": "code",
   "execution_count": 15,
   "metadata": {},
   "outputs": [
    {
     "data": {
      "text/plain": [
       "'No or wrong Variable given'"
      ]
     },
     "execution_count": 15,
     "metadata": {},
     "output_type": "execute_result"
    }
   ],
   "source": [
    "parse_derivation(\"derivate '2x' var j\")"
   ]
  },
  {
   "cell_type": "code",
   "execution_count": 16,
   "metadata": {},
   "outputs": [
    {
     "data": {
      "text/plain": [
       "'No or wrong Variable given'"
      ]
     },
     "execution_count": 16,
     "metadata": {},
     "output_type": "execute_result"
    }
   ],
   "source": [
    "parse_derivation(\"derivate '2x' var \")"
   ]
  },
  {
   "cell_type": "code",
   "execution_count": 17,
   "metadata": {},
   "outputs": [
    {
     "data": {
      "text/plain": [
       "'Function not corretly formated'"
      ]
     },
     "execution_count": 17,
     "metadata": {},
     "output_type": "execute_result"
    }
   ],
   "source": [
    "parse_derivation(\"derivate '%&'\")"
   ]
  },
  {
   "cell_type": "markdown",
   "metadata": {},
   "source": [
    "### bool_derivation\n",
    "Then we will come to bool_derivation. This is the boolean function for the message handler."
   ]
  },
  {
   "cell_type": "code",
   "execution_count": 18,
   "metadata": {},
   "outputs": [],
   "source": [
    "def bool_derivation(message):\n",
    "    \"\"\"\n",
    "    Input : telegram message\n",
    "    Output: Bool\n",
    "    This functions is a boolean functions for a telegram bot handler\n",
    "    It is suppose to check wether one tried to specify a function for derivation (doesn't matter wether is is instantiated correclty or is a correct mathematical expression)\n",
    "    \"\"\"\n",
    "    string = message.text\n",
    "    erg=parse_derivation(string)\n",
    "    if erg!= False: # when parse_derivation does not return False we know that atleast someone tried to plot a function\n",
    "        pickle.dump(str([(type(erg)!=str),str(erg)]),open(\"temp/buffer.dat\",\"wb\")) # save the data for later because then we don't have to run every parse function again\n",
    "        return True\n",
    "    else:\n",
    "        return False\n"
   ]
  },
  {
   "cell_type": "markdown",
   "metadata": {},
   "source": [
    "If the parser returns False, we know that the message has nothing to do with the derivation, so we simply return false. \n",
    "\n",
    "If the parser doesn't return False, we know that at least someone tried to draw a function, and the return value is either an error message as a string or the function as a sympy expr.\n",
    "\n",
    "We then use the pickle module to store the data in the buffer.dat file. [(type(erg)!=str),str(erg)] we chose this format so we know later if the return value was an error message (then the first element of the list is False)\n",
    "\n",
    "When we save the data, we can't do the same calculations again later on\n",
    "\n",
    "\n",
    "### Awnsering function: derivate\n",
    "If the bool_derivation function detects a derivation attempt and therefore returns True, the function below the derivation handler is called, in this case derivate from the main.py file.\n"
   ]
  },
  {
   "cell_type": "code",
   "execution_count": 19,
   "metadata": {},
   "outputs": [],
   "source": [
    "@bot.message_handler(func=bool_derivation)\n",
    "def derivate(message):\n",
    "    \"\"\"This function handels the derivation (working ones and failures)\"\"\"\n",
    "    text=str(message.text)\n",
    "    gespeichertes_erg = getting_buffer() # get the saved data from the buffer\n",
    "    if gespeichertes_erg[0]==False: # if the saved data is a failure message\n",
    "        bot.send_message(message.chat.id,gespeichertes_erg[1]) # just reply with the failure message\n",
    "    else: # derivate integrate the function\n",
    "        erg = gespeichertes_erg[1]\n",
    "        rückgabe=''\n",
    "        if len(erg)==2: # if var was specified\n",
    "            rückgabe= str(get_derivative(erg[0],var=erg[1]))\n",
    "        elif len(erg)==1: # if var was not specified\n",
    "            rückgabe= str(get_derivative(erg[0]))\n",
    "        saving_last_function(rückgabe,str(message.chat.id)) # save the result as last function \n",
    "        bot.send_message(message.chat.id, rückgabe.replace('**','^'))  # reply the function"
   ]
  },
  {
   "cell_type": "markdown",
   "metadata": {},
   "source": [
    "First we get the data using the getting_buffer() function. If the data or saved_erg was an error message, we simply respond with the error message.\n",
    "\n",
    "If the data was a function, we call get_derivative from the math_part.py file, and respond with the saving_last_function function to the last derivative answered.\n",
    "\n",
    "This structure: handler -> boolean function -> parsing function -> saving data -> awnsering function getting data -> use special fucntion like plot or get_derivative -> send reply message \n",
    "\n",
    "is pretty much identical to the response structures of the integration, plotting or adjustment functions.\n"
   ]
  },
  {
   "cell_type": "markdown",
   "metadata": {},
   "source": [
    "### The temp/ folder\n",
    "The last structural element worth mentioning is the temp/ folder. This is where we store all the data. In addition to buffer.dat, which we all know already, we also have plot.png. This is the image of the last plot created by plot_func.\n",
    "\n",
    "We also have last_function.dat and set_functions.dat. These two are important elements of our bot. Like buffer.dat, these are binary records written with the pickle module. They contain dictionaries of the most recently returned/entered functions with the message.ids as keys.\n",
    "\n",
    "Let's take a look at them:"
   ]
  },
  {
   "cell_type": "code",
   "execution_count": 20,
   "metadata": {},
   "outputs": [
    {
     "data": {
      "text/plain": [
       "{'1232133213': {'a': 2, 'b': 2},\n",
       " '848129583': '2*x+exp(z)+sin(y)',\n",
       " '1291571328': 'x'}"
      ]
     },
     "execution_count": 20,
     "metadata": {},
     "output_type": "execute_result"
    }
   ],
   "source": [
    "import pickle\n",
    "dir_of_set_functions = eval(pickle.load(open(\"temp/set_functions.dat\",\"rb\")))\n",
    "dir_of_set_functions"
   ]
  },
  {
   "cell_type": "code",
   "execution_count": 21,
   "metadata": {},
   "outputs": [
    {
     "data": {
      "text/plain": [
       "{'1232133213': '2x',\n",
       " '87544545445454': '2*X',\n",
       " '6516546546546': '2*x',\n",
       " '87523244545445454': '2*X',\n",
       " 'dsadasd': '2*X',\n",
       " '545464654': '2*X',\n",
       " '5454646556789': '2*X',\n",
       " '848129583': 'x'}"
      ]
     },
     "execution_count": 21,
     "metadata": {},
     "output_type": "execute_result"
    }
   ],
   "source": [
    "dir_of_last_functions = eval(pickle.load(open(\"temp/last_functions.dat\",\"rb\"))) \n",
    "dir_of_last_functions"
   ]
  },
  {
   "cell_type": "markdown",
   "metadata": {},
   "source": [
    "<img src=\"temp/plot.png\">"
   ]
  },
  {
   "cell_type": "markdown",
   "metadata": {},
   "source": [
    "# Running the project yourself\n",
    "\n",
    "To run the project, you should first make sure that you have saved a dict to temp/set_functions.dat and temp/last_functions.dat and a photo to plot.png, otherwise this could cause an error.\n",
    "\n",
    "To do this, you can simply run this cell, which cleans up the two dicts and creates a photo"
   ]
  },
  {
   "cell_type": "code",
   "execution_count": 22,
   "metadata": {},
   "outputs": [
    {
     "data": {
      "text/plain": [
       "True"
      ]
     },
     "execution_count": 22,
     "metadata": {},
     "output_type": "execute_result"
    },
    {
     "data": {
      "image/png": "[encoded data removed]",
      "text/plain": [
       "<Figure size 432x288 with 1 Axes>"
      ]
     },
     "metadata": {
      "needs_background": "light"
     },
     "output_type": "display_data"
    }
   ],
   "source": [
    "from plot import *\n",
    "import sympy\n",
    "\n",
    "pickle.dump(str(dict()),open(\"temp/last_functions.dat\",\"wb\"))\n",
    "pickle.dump(str(dict()),open(\"temp/set_functions.dat\",\"wb\"))\n",
    "plot_func(parse_expr('x**2+y**2'))"
   ]
  },
  {
   "cell_type": "markdown",
   "metadata": {},
   "source": [
    "Finally, to start the bot, all you have to do is run main.py and open in Telegram @scipy_math_helper_bot. Cheers!\n"
   ]
  },
  {
   "cell_type": "markdown",
   "metadata": {},
   "source": [
    "## Troubleshooting\n",
    "- Sometimes there are troubles with installing the pPackages.\n",
    "  If you get 'TeleBot' object has no attribute 'message_handler' this post helped us:   https://stackoverflow.com/a/66367224/14146951\n",
    "\n",
    "- If there are more installation problems, try to create an virtual environment.\n",
    "\n",
    "- If the bot says 'Function not correctly instantiated' often the mistake are the ''. So try to do not plot x, but plot 'x'.\n",
    "\n",
    "- if the bot not works, try to create your own (https://www.youtube.com/watch?v=NwBWW8cNCP4) and replace the API_KEY in main.py. \n",
    "- for more help just write /dir"
   ]
  },
  {
   "cell_type": "code",
   "execution_count": null,
   "metadata": {},
   "outputs": [],
   "source": []
  }
 ],
 "metadata": {
  "kernelspec": {
   "display_name": "Python 3 (ipykernel)",
   "language": "python",
   "name": "python3"
  },
  "language_info": {
   "codemirror_mode": {
    "name": "ipython",
    "version": 3
   },
   "file_extension": ".py",
   "mimetype": "text/x-python",
   "name": "python",
   "nbconvert_exporter": "python",
   "pygments_lexer": "ipython3",
   "version": "3.9.0"
  },
  "toc-autonumbering": true,
  "toc-showmarkdowntxt": false
 },
 "nbformat": 4,
 "nbformat_minor": 5
}
