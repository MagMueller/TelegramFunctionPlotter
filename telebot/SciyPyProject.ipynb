{
 "cells": [
  {
   "cell_type": "markdown",
   "id": "483f0de2-9696-4090-af48-64919b23a749",
   "metadata": {},
   "source": [
    "# Scipy 2021 Project - Sympy - Telegram - Bot - Magnus Müller and Felix Hammer\n",
    "\n",
    "First of all the required libraries:"
   ]
  },
  {
   "cell_type": "code",
   "execution_count": 445,
   "id": "059fc1d5-ced0-4f3f-8b77-06cf47e9d1e8",
   "metadata": {},
   "outputs": [
    {
     "name": "stdout",
     "output_type": "stream",
     "text": [
      "Requirement already satisfied: pyTelegramBotAPI in /home/felixh/miniconda3/envs/scipy/lib/python3.7/site-packages (3.8.2)\n",
      "Requirement already satisfied: requests in /home/felixh/miniconda3/envs/scipy/lib/python3.7/site-packages (from pyTelegramBotAPI) (2.25.1)\n",
      "Requirement already satisfied: certifi>=2017.4.17 in /home/felixh/miniconda3/envs/scipy/lib/python3.7/site-packages (from requests->pyTelegramBotAPI) (2021.5.30)\n",
      "Requirement already satisfied: urllib3<1.27,>=1.21.1 in /home/felixh/miniconda3/envs/scipy/lib/python3.7/site-packages (from requests->pyTelegramBotAPI) (1.26.4)\n",
      "Requirement already satisfied: idna<3,>=2.5 in /home/felixh/miniconda3/envs/scipy/lib/python3.7/site-packages (from requests->pyTelegramBotAPI) (2.10)\n",
      "Requirement already satisfied: chardet<5,>=3.0.2 in /home/felixh/miniconda3/envs/scipy/lib/python3.7/site-packages (from requests->pyTelegramBotAPI) (4.0.0)\n",
      "Note: you may need to restart the kernel to use updated packages.\n"
     ]
    }
   ],
   "source": [
    "!pip install pyTelegramBotAPI\n",
    "!pip install sympy\n",
    "!pip install numpy\n",
    "!pip install matplotlib"
   ]
  },
  {
   "cell_type": "markdown",
   "id": "9780bf3f-8a05-4350-90ac-1ee0d51f8ab6",
   "metadata": {},
   "source": [
    "You can also find them in our requiremts.txt"
   ]
  },
  {
   "cell_type": "markdown",
   "id": "fa62be67-9a3e-40f5-90f7-597b267a4da5",
   "metadata": {},
   "source": [
    "## First let's get a grib on pyTelegramBotAPI\n",
    "\n",
    "Here is the documentation: https://pypi.org/project/pyTelegramBotAPI/\n",
    "But you don't really need it, because it is very simple:"
   ]
  },
  {
   "cell_type": "code",
   "execution_count": 453,
   "id": "34bb03d4-c750-4545-98c6-0b37ae897d5f",
   "metadata": {},
   "outputs": [],
   "source": [
    "import telebot # You first have to import the library (it goes by another name)\n",
    "\n",
    "# Then you have to specify the API Key of your bot here as string: (You can create a bot with the telegram bot father and get an API Key)\n",
    "API_KEY = \"1913464534:AAGjZ9gC5KQmRiAjd-YWCAjhkKYGIpU6SBM\"\n",
    "bot = telebot.TeleBot(API_KEY) # and create a telebot with the api\n",
    "\n",
    "# After that we just have to specify message handlers, which check wether a reply function is fitting:\n",
    "@bot.message_handler(commands=['hello']) # commands accepts telegram comands (in this case \"/hello\")\n",
    "def hello(message): # and then you just have to state the awnser function directly under the handler\n",
    "    bot.send_message(message.chat.id, \"Hello!\") # in this case we simply send back an \"Hello\" to the person chatting with us\n",
    "    \n",
    "    \n",
    "# You can also you as a handler boolean functions like this: \n",
    "\n",
    "def a_boolean_function(message):\n",
    "    return message.text=='How are you?'\n",
    "\n",
    "@bot.message_handler(func=a_boolean_function)\n",
    "def reply(message): # and then you just have to state the awnser function directly under the handler\n",
    "    bot.send_message(message.chat.id, \"I am a bot, I don't have feelings\")\n",
    "    \n",
    "# To run the bot you will then only need this command\n",
    "\n",
    "bot.polling()  # use none_stop=True as argument to keep running after an error occured\n"
   ]
  },
  {
   "cell_type": "markdown",
   "id": "4d04035f-f7cd-4f99-9791-0e46fba5281e",
   "metadata": {},
   "source": [
    "This was basically everything we used, besides a simple send_photo command\n",
    "\n",
    "It this important to note that the handlers are checked in the order they are defined by\n",
    "\n",
    "## Then let's have a look at SymPy\n",
    "\n",
    "SymPy is a great library for math \n",
    "First let's import it:"
   ]
  },
  {
   "cell_type": "code",
   "execution_count": 451,
   "id": "bf76d982-3977-4967-acd0-f6d0c65fb2dc",
   "metadata": {},
   "outputs": [
    {
     "name": "stdout",
     "output_type": "stream",
     "text": [
      "exp(x**2)\n",
      "2*x*exp(x**2)\n",
      "sqrt(pi)*erfi(x)/2\n"
     ]
    }
   ],
   "source": [
    "from sympy import *\n",
    "\n",
    "x, y, z = symbols('x y z') # here we specify the variables, we are using\n",
    "\n",
    "# Simpy offers nice mathematical tool like these:\n",
    "\n",
    "function = parse_expr('exp(x**2)') # Define a function with an string\n",
    "print(function)\n",
    "print(function.diff()) # Derivate the Function\n",
    "print(integrate(function)) # Integrate it "
   ]
  },
  {
   "cell_type": "markdown",
   "id": "e5f4089b-b2ba-40ec-bb35-78203680e474",
   "metadata": {},
   "source": [
    "These 3 functions are mainly the only functions, we are using"
   ]
  },
  {
   "cell_type": "markdown",
   "id": "2e4fae7e-7e4a-4977-b641-73d30dbc53e2",
   "metadata": {},
   "source": [
    "# Project’s goal, motivation and structure\n",
    "## Goal\n",
    "The goal of this project it to have a create a Telegram Bot which acts as a simple \"Math-Helper\"\n",
    "\n",
    "So when you are sitting in front of you math-tasks and you want to quickly derivate a function you can just simple open telegram instead of googling for the classical \"derivation- calculator\" sites \n",
    "\n",
    "some\n",
    "<span style=\"color:red\">!!! Insert example pictures here\n",
    "And write about format here text</span>.\n",
    "\n",
    "## Motivation\n",
    "\n",
    "The Motivation was basically that we like math and python and creating this telegram-bot seemed like an awesome way to combine those two. Furthermore, a telegram bot seemed pretty cool and we thought that getting some knowledge on how to create one might be handy later on.\n",
    "\n",
    "## Structure \n",
    "\n",
    "This is the structure of our Bot:"
   ]
  },
  {
   "cell_type": "markdown",
   "id": "7df37339-02a0-4d8e-8883-1dddf0b2a4d3",
   "metadata": {},
   "source": [
    "<img src=\"img/screen.jpg\">"
   ]
  },
  {
   "cell_type": "markdown",
   "id": "b0ca888f-01b8-4dbd-9a82-359663a031e1",
   "metadata": {},
   "source": [
    "It looks quite complex at first but, it is not that hard to understand.\n",
    "\n",
    "So what we end up running is the main.py. The bot will then start polling and waiting for incoming messages.\n",
    "If a message is received, the bot will check wether the message maps to a message-hanlder in the order the handlers are defined by.\n",
    "\n",
    "The five big importand handlers are the ones for plotting, derivating, integrating, saving a function or computing operations over the saved function. They all call a boolean function from the boolean_funtions.py, with the exception of bool_commands. \n",
    "\n",
    "The boolean function then respectivly call a special parsing function from parsing_functions.py.\n",
    "\n",
    "\n",
    "### parse_function\n",
    "Since all functions are build similary, we will explain the structure based on the derivation progess, from the bottom up:\n"
   ]
  },
  {
   "cell_type": "code",
   "execution_count": 460,
   "id": "77f7fe86-1e0e-4405-a71e-f1309805f032",
   "metadata": {},
   "outputs": [
    {
     "data": {
      "text/latex": [
       "$\\displaystyle 2 x$"
      ],
      "text/plain": [
       "2*x"
      ]
     },
     "execution_count": 460,
     "metadata": {},
     "output_type": "execute_result"
    }
   ],
   "source": [
    "from sympy import *\n",
    "from parsing_functions import parse_function\n",
    "x, y, z = symbols('x y z')\n",
    "\n",
    "# The most fundamental building plot is this parse_function:\n",
    "parse_function('x2')"
   ]
  },
  {
   "cell_type": "markdown",
   "id": "a0ee13aa-1316-4769-9e70-50b30b427509",
   "metadata": {},
   "source": [
    "It allows us to transform a string of a mathematical function written in a correct way to be transformed to an sympy expression. \n",
    "This treats things differently as the parse_expr function from sympy:"
   ]
  },
  {
   "cell_type": "code",
   "execution_count": 458,
   "id": "18056d41-10df-405c-a088-e7786eea16ba",
   "metadata": {},
   "outputs": [
    {
     "data": {
      "text/latex": [
       "$\\displaystyle x_{2}$"
      ],
      "text/plain": [
       "x2"
      ]
     },
     "execution_count": 458,
     "metadata": {},
     "output_type": "execute_result"
    }
   ],
   "source": [
    "parse_expr('x2')"
   ]
  },
  {
   "cell_type": "markdown",
   "id": "5b1cfcc8-7dfe-4686-90d2-48d7231d86a6",
   "metadata": {},
   "source": [
    "Here some more examples:"
   ]
  },
  {
   "cell_type": "code",
   "execution_count": 461,
   "id": "36756bd7-e0c9-4db1-9a5e-0706ccba1409",
   "metadata": {},
   "outputs": [
    {
     "data": {
      "text/latex": [
       "$\\displaystyle \\sin{\\left(e^{\\cos{\\left(x^{2} \\right)}} \\right)}$"
      ],
      "text/plain": [
       "sin(exp(cos(x**2)))"
      ]
     },
     "execution_count": 461,
     "metadata": {},
     "output_type": "execute_result"
    }
   ],
   "source": [
    "parse_function('sin(exp(cos(x**2)))')"
   ]
  },
  {
   "cell_type": "code",
   "execution_count": 463,
   "id": "c48c9772-3c00-4a40-a770-c10958dbbe5b",
   "metadata": {},
   "outputs": [
    {
     "data": {
      "text/plain": [
       "'Function not corretly formated'"
      ]
     },
     "execution_count": 463,
     "metadata": {},
     "output_type": "execute_result"
    }
   ],
   "source": [
    "parse_function('notafuntion%') # returns a failure message if you can't parse the function"
   ]
  },
  {
   "cell_type": "code",
   "execution_count": 464,
   "id": "d53193d4-3e23-4790-bdbd-ada274ecf29f",
   "metadata": {},
   "outputs": [
    {
     "data": {
      "text/latex": [
       "$\\displaystyle butthisisafunction$"
      ],
      "text/plain": [
       "butthisisafunction"
      ]
     },
     "execution_count": 464,
     "metadata": {},
     "output_type": "execute_result"
    }
   ],
   "source": [
    "parse_function('butthisisafunction')"
   ]
  },
  {
   "cell_type": "markdown",
   "id": "5579d5cc-0b86-4c4d-96e0-b6d8f8aa3e45",
   "metadata": {},
   "source": [
    "### parse_derivation\n",
    "This parse_function is now being used by the parse_derivation function:\n"
   ]
  },
  {
   "cell_type": "code",
   "execution_count": 475,
   "id": "fb58d12e-906e-4515-a647-e2d8cefbfebf",
   "metadata": {},
   "outputs": [],
   "source": [
    "def parse_derivation(string):\n",
    "    \"\"\"\n",
    "    Input: string\n",
    "    Output: sympy function or string if parsing failed or False if we the string does'nt start with 'derivate '\n",
    "    \"\"\"\n",
    "    if string[0:9]=='derivate ':\n",
    "        first = string.find(\"'\")\n",
    "        second = string.find(\"'\",first+1)\n",
    "        if first!= -1 and second !=-1: # if function correctly instantiated \n",
    "            pos_var=string.find('var')\n",
    "            if pos_var!=-1: # if variable is specified\n",
    "                if pos_var+4 < len(string) and string[pos_var+4] in ['x','y','z']: # if variable is corectly specified\n",
    "                    erg = parse_function(string[first+1:second])\n",
    "                    if type(erg)==str:\n",
    "                        return erg\n",
    "                    else:\n",
    "                        return [erg,string[pos_var+4]] # return functionm variabke as list\n",
    "                else:\n",
    "                    return \"No or wrong Variable given\" # return failure message\n",
    "            else:\n",
    "                erg = parse_function(string[first+1:second])\n",
    "                if type(erg)==str:\n",
    "                    return erg\n",
    "                else:\n",
    "                    return [erg] # return function as list\n",
    "        else:\n",
    "            return 'Function not correctly instantiated'# return failure message\n",
    "    return False\n"
   ]
  },
  {
   "cell_type": "markdown",
   "id": "e3083ebf-5306-425d-8a68-fca48e227d04",
   "metadata": {},
   "source": [
    "The function will be called with the text of the incomming message as argument.\n",
    "If the text doesn't start with 'derivate ', the function will just return false:"
   ]
  },
  {
   "cell_type": "code",
   "execution_count": 476,
   "id": "191cb373-9329-467a-a221-d80456220e0d",
   "metadata": {},
   "outputs": [
    {
     "data": {
      "text/plain": [
       "False"
      ]
     },
     "execution_count": 476,
     "metadata": {},
     "output_type": "execute_result"
    }
   ],
   "source": [
    "parse_derivation('deriva')"
   ]
  },
  {
   "cell_type": "markdown",
   "id": "7f06b1a7-cdf9-4222-83a3-8465d2eb100b",
   "metadata": {},
   "source": [
    "If we get an input that is formated correctly we will get the parsed function possibly a variable in form of a list:"
   ]
  },
  {
   "cell_type": "code",
   "execution_count": 477,
   "id": "c292c492-6c8c-4ce4-a754-ac6ea404034e",
   "metadata": {},
   "outputs": [
    {
     "data": {
      "text/plain": [
       "[exp(sin(x**2))]"
      ]
     },
     "execution_count": 477,
     "metadata": {},
     "output_type": "execute_result"
    }
   ],
   "source": [
    "parse_derivation(\"derivate 'exp(sin(x**2))'\")"
   ]
  },
  {
   "cell_type": "code",
   "execution_count": 478,
   "id": "68aad448-3f82-41d7-8294-121667b74af1",
   "metadata": {},
   "outputs": [
    {
     "data": {
      "text/plain": [
       "[exp(sin(x**2)), 'x']"
      ]
     },
     "execution_count": 478,
     "metadata": {},
     "output_type": "execute_result"
    }
   ],
   "source": [
    "parse_derivation(\"derivate 'exp(sin(x**2))' var x\")"
   ]
  },
  {
   "cell_type": "markdown",
   "id": "3b5bf3be-dbc5-4b12-bf3d-0e3fbbe3bd10",
   "metadata": {},
   "source": [
    "And if we detect some mistake, be it a wrong variable, or function that was instatntiated incorectly we get error messages as strings back:"
   ]
  },
  {
   "cell_type": "code",
   "execution_count": 479,
   "id": "f64204d1-90a1-4301-90b5-0d185aee9391",
   "metadata": {},
   "outputs": [
    {
     "data": {
      "text/plain": [
       "'Function not correctly instantiated'"
      ]
     },
     "execution_count": 479,
     "metadata": {},
     "output_type": "execute_result"
    }
   ],
   "source": [
    "parse_derivation(\"derivate 'missing_abostroph\")"
   ]
  },
  {
   "cell_type": "code",
   "execution_count": 480,
   "id": "edca8700-892e-4c8a-aa7a-968791a999ac",
   "metadata": {},
   "outputs": [
    {
     "data": {
      "text/plain": [
       "'Function not correctly instantiated'"
      ]
     },
     "execution_count": 480,
     "metadata": {},
     "output_type": "execute_result"
    }
   ],
   "source": [
    "parse_derivation(\"derivate \")"
   ]
  },
  {
   "cell_type": "code",
   "execution_count": 481,
   "id": "e3d6deb9-2616-467f-bda0-6e305336cfae",
   "metadata": {},
   "outputs": [
    {
     "data": {
      "text/plain": [
       "'No or wrong Variable given'"
      ]
     },
     "execution_count": 481,
     "metadata": {},
     "output_type": "execute_result"
    }
   ],
   "source": [
    "parse_derivation(\"derivate '2x' var j\")"
   ]
  },
  {
   "cell_type": "code",
   "execution_count": 482,
   "id": "8c5a1baa-24f3-464d-8e6d-c44886bd9399",
   "metadata": {},
   "outputs": [
    {
     "data": {
      "text/plain": [
       "'No or wrong Variable given'"
      ]
     },
     "execution_count": 482,
     "metadata": {},
     "output_type": "execute_result"
    }
   ],
   "source": [
    "parse_derivation(\"derivate '2x' var \")"
   ]
  },
  {
   "cell_type": "code",
   "execution_count": 483,
   "id": "3f7d79c4-42df-4ea9-8150-f2afd6496c5a",
   "metadata": {},
   "outputs": [
    {
     "data": {
      "text/plain": [
       "'Function not corretly formated'"
      ]
     },
     "execution_count": 483,
     "metadata": {},
     "output_type": "execute_result"
    }
   ],
   "source": [
    "parse_derivation(\"derivate '%&'\")"
   ]
  },
  {
   "cell_type": "markdown",
   "id": "87da61ee-bf4d-4344-86e2-7b96863310c3",
   "metadata": {},
   "source": [
    "### bool_derivation\n",
    "Then we will come to bool_derivation. This is the boolean function for the message handler."
   ]
  },
  {
   "cell_type": "code",
   "execution_count": null,
   "id": "5d3c8140-9360-4fda-9d16-6101cb9d27db",
   "metadata": {},
   "outputs": [],
   "source": [
    "def bool_derivation(message):\n",
    "    \"\"\"\n",
    "    Input : telegram message\n",
    "    Output: Bool\n",
    "    This functions is a boolean functions for a telegram bot handler\n",
    "    It is suppose to check wether one tried to specify a function for derivation (doesn't matter wether is is instantiated correclty or is a correct mathematical expression)\n",
    "    \"\"\"\n",
    "    string = message.text\n",
    "    erg=parse_derivation(string)\n",
    "    if erg!= False: # when parse_derivation does not return False we know that atleast someone tried to plot a function\n",
    "        pickle.dump(str([(type(erg)!=str),str(erg)]),open(\"temp/buffer.dat\",\"wb\")) # save the data for later because then we don't have to run every parse function again\n",
    "        return True\n",
    "    else:\n",
    "        return False\n"
   ]
  },
  {
   "cell_type": "markdown",
   "id": "26afa90c-e1f1-4eb0-8c3a-82466d218028",
   "metadata": {},
   "source": [
    "When the parser returns False, we know that the message was did not have anything to do with derivating, there fore we just return false. \n",
    "\n",
    "If the parser does'nt return False,we know that atleast someone tried to plot a function and that return value is either a failure message as a string or the function as a sympy expr.\n",
    "\n",
    "We then save the data via the pickle module in the buffer.dat file. [(type(erg)!=str),str(erg)] we chose this format, so that we can later know wether the return value was a failure message (then the first item of the list is False)\n",
    "\n",
    "Saving the data allows us to later not the same computations again\n",
    "\n",
    "\n",
    "### Awnsering function: derivate\n",
    "If the bool_derivation function detects a try to derivate and therefore returns True the function underneath of the derivation-handler will be called, in this case derivate from the main.py file."
   ]
  },
  {
   "cell_type": "code",
   "execution_count": 484,
   "id": "2cc59543-f0c0-4e71-b218-12684bdb3328",
   "metadata": {},
   "outputs": [],
   "source": [
    "@bot.message_handler(func=bool_derivation)\n",
    "def derivate(message):\n",
    "    \"\"\"This function handels the derivation (working ones and failures)\"\"\"\n",
    "    text=str(message.text)\n",
    "    gespeichertes_erg = getting_buffer() # get the saved data from the buffer\n",
    "    if gespeichertes_erg[0]==False: # if the saved data is a failure message\n",
    "        bot.send_message(message.chat.id,gespeichertes_erg[1]) # just reply with the failure message\n",
    "    else: # derivate integrate the function\n",
    "        erg = gespeichertes_erg[1]\n",
    "        rückgabe=''\n",
    "        if len(erg)==2: # if var was specified\n",
    "            rückgabe= str(get_derivative(erg[0],var=erg[1]))\n",
    "        elif len(erg)==1: # if var was not specified\n",
    "            rückgabe= str(get_derivative(erg[0]))\n",
    "        saving_last_function(rückgabe,str(message.chat.id)) # save the result as last function \n",
    "        bot.send_message(message.chat.id, rückgabe.replace('**','^'))  # reply the function"
   ]
  },
  {
   "cell_type": "markdown",
   "id": "5d1ae18c-f714-493d-b63f-c7fe984c4617",
   "metadata": {},
   "source": [
    "First we get the data via the getting_buffer() function. If the data or gespeichertes_erg was a failure message, we just reply with the failure message.\n",
    "\n",
    "If the data was a function we then call get_derivative from the math_part.py file on it, and reply the awnser as aditionally save the awnser as the last replied awnser via the saving_last_function.\n",
    "\n",
    "This structure: handler -> boolean function -> parsing function -> saving data -> awnsering function getting data -> use special fucntion like plot or get_derivative -> send reply message \n",
    "\n",
    "is pretty much identical to the integrate, plotting or setting-function reply structures."
   ]
  },
  {
   "cell_type": "markdown",
   "id": "2eb0e904-85fb-4bfb-988f-fee707edf703",
   "metadata": {},
   "source": [
    "### The temp/ folder\n",
    "In this folder we save the last correct function that the bot repplied to a messager, and the current function of the messager as will as the pictures of the plot"
   ]
  },
  {
   "cell_type": "code",
   "execution_count": null,
   "id": "ef29fd4b-c4b6-4031-812d-326a45ef5871",
   "metadata": {},
   "outputs": [],
   "source": []
  }
 ],
 "metadata": {
  "kernelspec": {
   "display_name": "Python 3",
   "language": "python",
   "name": "python3"
  },
  "language_info": {
   "codemirror_mode": {
    "name": "ipython",
    "version": 3
   },
   "file_extension": ".py",
   "mimetype": "text/x-python",
   "name": "python",
   "nbconvert_exporter": "python",
   "pygments_lexer": "ipython3",
   "version": "3.7.10"
  }
 },
 "nbformat": 4,
 "nbformat_minor": 5
}
