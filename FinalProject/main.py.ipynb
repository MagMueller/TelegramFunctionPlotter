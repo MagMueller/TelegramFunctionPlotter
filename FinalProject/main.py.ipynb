{
 "cells": [
  {
   "cell_type": "code",
   "execution_count": 17,
   "id": "1c8418f9",
   "metadata": {},
   "outputs": [
    {
     "name": "stdout",
     "output_type": "stream",
     "text": [
      "Collecting pyTelegramBotAPI\n",
      "  Using cached pyTelegramBotAPI-3.8.1.tar.gz (99 kB)\n",
      "Requirement already satisfied: requests in /Users/magnusmuller/opt/anaconda3/envs/ml/lib/python3.6/site-packages (from pyTelegramBotAPI) (2.26.0)\n",
      "Requirement already satisfied: urllib3<1.27,>=1.21.1 in /Users/magnusmuller/opt/anaconda3/envs/ml/lib/python3.6/site-packages (from requests->pyTelegramBotAPI) (1.26.6)\n",
      "Requirement already satisfied: idna<4,>=2.5 in /Users/magnusmuller/opt/anaconda3/envs/ml/lib/python3.6/site-packages (from requests->pyTelegramBotAPI) (3.2)\n",
      "Requirement already satisfied: charset-normalizer~=2.0.0 in /Users/magnusmuller/opt/anaconda3/envs/ml/lib/python3.6/site-packages (from requests->pyTelegramBotAPI) (2.0.3)\n",
      "Requirement already satisfied: certifi>=2017.4.17 in /Users/magnusmuller/opt/anaconda3/envs/ml/lib/python3.6/site-packages (from requests->pyTelegramBotAPI) (2020.6.20)\n",
      "Building wheels for collected packages: pyTelegramBotAPI\n",
      "  Building wheel for pyTelegramBotAPI (setup.py) ... \u001b[?25ldone\n",
      "\u001b[?25h  Created wheel for pyTelegramBotAPI: filename=pyTelegramBotAPI-3.8.1-py3-none-any.whl size=75887 sha256=ffb30bbc3c009f615b1495dd9a77cf77b7cdb476d223ca39e696f3b9b2154d2b\n",
      "  Stored in directory: /Users/magnusmuller/Library/Caches/pip/wheels/b4/c9/6a/ee7327ae3448081c06a56bd60e63609531a110f5ce4221695d\n",
      "Successfully built pyTelegramBotAPI\n",
      "Installing collected packages: pyTelegramBotAPI\n",
      "Successfully installed pyTelegramBotAPI-3.8.1\n"
     ]
    }
   ],
   "source": [
    "!pip install pyTelegramBotAPI"
   ]
  },
  {
   "cell_type": "code",
   "execution_count": 19,
   "id": "24df0de7",
   "metadata": {},
   "outputs": [
    {
     "ename": "ModuleNotFoundError",
     "evalue": "No module named 'telebot'",
     "output_type": "error",
     "traceback": [
      "\u001b[0;31m---------------------------------------------------------------------------\u001b[0m",
      "\u001b[0;31mModuleNotFoundError\u001b[0m                       Traceback (most recent call last)",
      "\u001b[0;32m<ipython-input-19-cd49586ddaa7>\u001b[0m in \u001b[0;36m<module>\u001b[0;34m\u001b[0m\n\u001b[0;32m----> 1\u001b[0;31m \u001b[0;32mimport\u001b[0m \u001b[0mtelebot\u001b[0m\u001b[0;34m\u001b[0m\u001b[0;34m\u001b[0m\u001b[0m\n\u001b[0m",
      "\u001b[0;31mModuleNotFoundError\u001b[0m: No module named 'telebot'"
     ]
    }
   ],
   "source": [
    "import telebot"
   ]
  },
  {
   "cell_type": "code",
   "execution_count": 18,
   "id": "64840a62",
   "metadata": {},
   "outputs": [
    {
     "ename": "ModuleNotFoundError",
     "evalue": "No module named 'pyTelegramBotAPI'",
     "output_type": "error",
     "traceback": [
      "\u001b[0;31m---------------------------------------------------------------------------\u001b[0m",
      "\u001b[0;31mModuleNotFoundError\u001b[0m                       Traceback (most recent call last)",
      "\u001b[0;32m<ipython-input-18-971c528aaf87>\u001b[0m in \u001b[0;36m<module>\u001b[0;34m\u001b[0m\n\u001b[1;32m      1\u001b[0m \u001b[0;32mimport\u001b[0m \u001b[0mos\u001b[0m\u001b[0;34m\u001b[0m\u001b[0;34m\u001b[0m\u001b[0m\n\u001b[0;32m----> 2\u001b[0;31m \u001b[0;32mimport\u001b[0m \u001b[0mpyTelegramBotAPI\u001b[0m\u001b[0;34m\u001b[0m\u001b[0;34m\u001b[0m\u001b[0m\n\u001b[0m\u001b[1;32m      3\u001b[0m \u001b[0;32mimport\u001b[0m \u001b[0myfinance\u001b[0m \u001b[0;32mas\u001b[0m \u001b[0myf\u001b[0m\u001b[0;34m\u001b[0m\u001b[0;34m\u001b[0m\u001b[0m\n\u001b[1;32m      4\u001b[0m \u001b[0;34m\u001b[0m\u001b[0m\n\u001b[1;32m      5\u001b[0m \u001b[0mAPI_KEY\u001b[0m \u001b[0;34m=\u001b[0m \u001b[0mos\u001b[0m\u001b[0;34m.\u001b[0m\u001b[0mgetenv\u001b[0m\u001b[0;34m(\u001b[0m\u001b[0;34m'API_KEY'\u001b[0m\u001b[0;34m)\u001b[0m\u001b[0;34m\u001b[0m\u001b[0;34m\u001b[0m\u001b[0m\n",
      "\u001b[0;31mModuleNotFoundError\u001b[0m: No module named 'pyTelegramBotAPI'"
     ]
    }
   ],
   "source": [
    "import os\n",
    "import telebot\n",
    "import yfinance as yf\n",
    "\n",
    "API_KEY = os.getenv('API_KEY')\n",
    "bot = telebot.TeleBot(API_KEY)\n",
    "\n",
    "@bot.message_handler(commands=['Greet'])\n",
    "def greet(message):\n",
    "  bot.reply_to(message, \"Hey! Hows it going?\")\n",
    "\n",
    "@bot.message_handler(commands=['hello'])\n",
    "def hello(message):\n",
    "  bot.send_message(message.chat.id, \"Hello!\")\n",
    "\n",
    "@bot.message_handler(commands=['wsb'])\n",
    "def get_stocks(message):\n",
    "  response = \"\"\n",
    "  stocks = ['gme', 'amc', 'nok']\n",
    "  stock_data = []\n",
    "  for stock in stocks:\n",
    "    data = yf.download(tickers=stock, period='2d', interval='1d')\n",
    "    data = data.reset_index()\n",
    "    response += f\"-----{stock}-----\\n\"\n",
    "    stock_data.append([stock])\n",
    "    columns = ['stock']\n",
    "    for index, row in data.iterrows():\n",
    "      stock_position = len(stock_data) - 1\n",
    "      price = round(row['Close'], 2)\n",
    "      format_date = row['Date'].strftime('%m/%d')\n",
    "      response += f\"{format_date}: {price}\\n\"\n",
    "      stock_data[stock_position].append(price)\n",
    "      columns.append(format_date)\n",
    "    print()\n",
    "\n",
    "  response = f\"{columns[0] : <10}{columns[1] : ^10}{columns[2] : >10}\\n\"\n",
    "  for row in stock_data:\n",
    "    response += f\"{row[0] : <10}{row[1] : ^10}{row[2] : >10}\\n\"\n",
    "  response += \"\\nStock Data\"\n",
    "  print(response)\n",
    "  bot.send_message(message.chat.id, response)\n",
    "\n",
    "def stock_request(message):\n",
    "  request = message.text.split()\n",
    "  if len(request) < 2 or request[0].lower() not in \"price\":\n",
    "    return False\n",
    "  else:\n",
    "    return True\n",
    "\n",
    "@bot.message_handler(func=stock_request)\n",
    "def send_price(message):\n",
    "  request = message.text.split()[1]\n",
    "  data = yf.download(tickers=request, period='5m', interval='1m')\n",
    "  if data.size > 0:\n",
    "    data = data.reset_index()\n",
    "    data[\"format_date\"] = data['Datetime'].dt.strftime('%m/%d %I:%M %p')\n",
    "    data.set_index('format_date', inplace=True)\n",
    "    print(data.to_string())\n",
    "    bot.send_message(message.chat.id, data['Close'].to_string(header=False))\n",
    "  else:\n",
    "    bot.send_message(message.chat.id, \"No data!?\")\n",
    "\n",
    "bot.polling()"
   ]
  },
  {
   "cell_type": "code",
   "execution_count": null,
   "id": "18fdc6a4",
   "metadata": {},
   "outputs": [],
   "source": []
  }
 ],
 "metadata": {
  "kernelspec": {
   "display_name": "Python 3.7 (tensorflow)",
   "language": "python",
   "name": "tensorflow"
  },
  "language_info": {
   "codemirror_mode": {
    "name": "ipython",
    "version": 3
   },
   "file_extension": ".py",
   "mimetype": "text/x-python",
   "name": "python",
   "nbconvert_exporter": "python",
   "pygments_lexer": "ipython3",
   "version": "3.8.5"
  }
 },
 "nbformat": 4,
 "nbformat_minor": 5
}
